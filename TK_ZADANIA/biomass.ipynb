{
 "cells": [
  {
   "cell_type": "markdown",
   "metadata": {},
   "source": [
    "Import zależności"
   ]
  },
  {
   "cell_type": "code",
   "execution_count": 2,
   "metadata": {},
   "outputs": [
    {
     "name": "stderr",
     "output_type": "stream",
     "text": [
      "2024-09-04 23:28:26.376957: I external/local_xla/xla/tsl/cuda/cudart_stub.cc:32] Could not find cuda drivers on your machine, GPU will not be used.\n",
      "2024-09-04 23:28:26.838047: I external/local_xla/xla/tsl/cuda/cudart_stub.cc:32] Could not find cuda drivers on your machine, GPU will not be used.\n",
      "2024-09-04 23:28:27.305088: E external/local_xla/xla/stream_executor/cuda/cuda_fft.cc:485] Unable to register cuFFT factory: Attempting to register factory for plugin cuFFT when one has already been registered\n",
      "2024-09-04 23:28:27.673261: E external/local_xla/xla/stream_executor/cuda/cuda_dnn.cc:8454] Unable to register cuDNN factory: Attempting to register factory for plugin cuDNN when one has already been registered\n",
      "2024-09-04 23:28:27.778733: E external/local_xla/xla/stream_executor/cuda/cuda_blas.cc:1452] Unable to register cuBLAS factory: Attempting to register factory for plugin cuBLAS when one has already been registered\n",
      "2024-09-04 23:28:28.367204: I tensorflow/core/platform/cpu_feature_guard.cc:210] This TensorFlow binary is optimized to use available CPU instructions in performance-critical operations.\n",
      "To enable the following instructions: AVX2 FMA, in other operations, rebuild TensorFlow with the appropriate compiler flags.\n",
      "2024-09-04 23:28:35.265219: W tensorflow/compiler/tf2tensorrt/utils/py_utils.cc:38] TF-TRT Warning: Could not find TensorRT\n"
     ]
    }
   ],
   "source": [
    "import tensorflow as tf\n",
    "import tensorflow_decision_forests as tfdf\n",
    "import sklearn\n",
    "import sklearn.datasets\n",
    "import sklearn.model_selection\n",
    "import pandas as pd\n",
    "import matplotlib.pyplot as plt\n",
    "import seaborn as sns\n",
    "import numpy as np\n",
    "import time\n",
    "from sklearn.preprocessing import LabelEncoder"
   ]
  },
  {
   "cell_type": "markdown",
   "metadata": {},
   "source": [
    "Pobranie danych z artykułu "
   ]
  },
  {
   "cell_type": "code",
   "execution_count": 3,
   "metadata": {},
   "outputs": [
    {
     "name": "stdout",
     "output_type": "stream",
     "text": [
      "<class 'pandas.core.frame.DataFrame'>\n",
      "RangeIndex: 30 entries, 0 to 29\n",
      "Data columns (total 6 columns):\n",
      " #   Column               Non-Null Count  Dtype  \n",
      "---  ------               --------------  -----  \n",
      " 0   Run                  30 non-null     int64  \n",
      " 1   LightIntensity       30 non-null     int64  \n",
      " 2   Photoperiod          30 non-null     object \n",
      " 3   Temperature          30 non-null     int64  \n",
      " 4   Initial pH           30 non-null     float64\n",
      " 5   BiomassProductivity  30 non-null     float64\n",
      "dtypes: float64(2), int64(3), object(1)\n",
      "memory usage: 1.5+ KB\n"
     ]
    },
    {
     "data": {
      "text/html": [
       "<div>\n",
       "<style scoped>\n",
       "    .dataframe tbody tr th:only-of-type {\n",
       "        vertical-align: middle;\n",
       "    }\n",
       "\n",
       "    .dataframe tbody tr th {\n",
       "        vertical-align: top;\n",
       "    }\n",
       "\n",
       "    .dataframe thead th {\n",
       "        text-align: right;\n",
       "    }\n",
       "</style>\n",
       "<table border=\"1\" class=\"dataframe\">\n",
       "  <thead>\n",
       "    <tr style=\"text-align: right;\">\n",
       "      <th></th>\n",
       "      <th>Run</th>\n",
       "      <th>LightIntensity</th>\n",
       "      <th>Photoperiod</th>\n",
       "      <th>Temperature</th>\n",
       "      <th>Initial pH</th>\n",
       "      <th>BiomassProductivity</th>\n",
       "    </tr>\n",
       "  </thead>\n",
       "  <tbody>\n",
       "    <tr>\n",
       "      <th>0</th>\n",
       "      <td>1</td>\n",
       "      <td>116</td>\n",
       "      <td>24:00</td>\n",
       "      <td>28</td>\n",
       "      <td>8.0</td>\n",
       "      <td>185.6</td>\n",
       "    </tr>\n",
       "    <tr>\n",
       "      <th>1</th>\n",
       "      <td>2</td>\n",
       "      <td>165</td>\n",
       "      <td>19:05</td>\n",
       "      <td>22</td>\n",
       "      <td>6.5</td>\n",
       "      <td>140.6</td>\n",
       "    </tr>\n",
       "    <tr>\n",
       "      <th>2</th>\n",
       "      <td>3</td>\n",
       "      <td>66</td>\n",
       "      <td>19:05</td>\n",
       "      <td>34</td>\n",
       "      <td>6.5</td>\n",
       "      <td>135.0</td>\n",
       "    </tr>\n",
       "  </tbody>\n",
       "</table>\n",
       "</div>"
      ],
      "text/plain": [
       "   Run  LightIntensity Photoperiod  Temperature  Initial pH  \\\n",
       "0    1             116       24:00           28         8.0   \n",
       "1    2             165       19:05           22         6.5   \n",
       "2    3              66       19:05           34         6.5   \n",
       "\n",
       "   BiomassProductivity  \n",
       "0                185.6  \n",
       "1                140.6  \n",
       "2                135.0  "
      ]
     },
     "execution_count": 3,
     "metadata": {},
     "output_type": "execute_result"
    }
   ],
   "source": [
    "origin_data = pd.read_csv('../Datasets/biomass-production-data.csv')\n",
    "origin_data.info()\n",
    "origin_data.head(3)\n"
   ]
  },
  {
   "cell_type": "markdown",
   "metadata": {},
   "source": [
    "Wywalamy niepotrzebna kolumne Run order oraz musimy napisac metoda konwertujac wartosc \"photoperiod\" do wartosci numerycznej\n"
   ]
  },
  {
   "cell_type": "code",
   "execution_count": 4,
   "metadata": {},
   "outputs": [
    {
     "data": {
      "text/html": [
       "<div>\n",
       "<style scoped>\n",
       "    .dataframe tbody tr th:only-of-type {\n",
       "        vertical-align: middle;\n",
       "    }\n",
       "\n",
       "    .dataframe tbody tr th {\n",
       "        vertical-align: top;\n",
       "    }\n",
       "\n",
       "    .dataframe thead th {\n",
       "        text-align: right;\n",
       "    }\n",
       "</style>\n",
       "<table border=\"1\" class=\"dataframe\">\n",
       "  <thead>\n",
       "    <tr style=\"text-align: right;\">\n",
       "      <th></th>\n",
       "      <th>LightIntensity</th>\n",
       "      <th>Photoperiod</th>\n",
       "      <th>Temperature</th>\n",
       "      <th>Initial pH</th>\n",
       "      <th>BiomassProductivity</th>\n",
       "    </tr>\n",
       "  </thead>\n",
       "  <tbody>\n",
       "    <tr>\n",
       "      <th>0</th>\n",
       "      <td>116</td>\n",
       "      <td>24:00</td>\n",
       "      <td>28</td>\n",
       "      <td>8.0</td>\n",
       "      <td>185.6</td>\n",
       "    </tr>\n",
       "    <tr>\n",
       "      <th>1</th>\n",
       "      <td>165</td>\n",
       "      <td>19:05</td>\n",
       "      <td>22</td>\n",
       "      <td>6.5</td>\n",
       "      <td>140.6</td>\n",
       "    </tr>\n",
       "    <tr>\n",
       "      <th>2</th>\n",
       "      <td>66</td>\n",
       "      <td>19:05</td>\n",
       "      <td>34</td>\n",
       "      <td>6.5</td>\n",
       "      <td>135.0</td>\n",
       "    </tr>\n",
       "  </tbody>\n",
       "</table>\n",
       "</div>"
      ],
      "text/plain": [
       "   LightIntensity Photoperiod  Temperature  Initial pH  BiomassProductivity\n",
       "0             116       24:00           28         8.0                185.6\n",
       "1             165       19:05           22         6.5                140.6\n",
       "2              66       19:05           34         6.5                135.0"
      ]
     },
     "execution_count": 4,
     "metadata": {},
     "output_type": "execute_result"
    }
   ],
   "source": [
    "data = origin_data.drop('Run', axis=1)\n",
    "\n",
    "def encode_photoperiod(x):\n",
    "    minutes = int(x.split(\":\")[0]) * 60 + int(x.split(\":\")[1])\n",
    "    return minutes\n",
    "\n",
    "def decode_photoperiod(x):\n",
    "    hours = x // 60\n",
    "    minutes = x % 60\n",
    "    return f\"{hours}:{minutes}\"\n",
    "\n",
    "# test_value = data['Photoperiod'][0]\n",
    "# print(f\"Test value: {test_value}\")\n",
    "# encoded_test_value = encode_photoperiod(test_value)\n",
    "# print(f\"Encoded test value: {encoded_test_value}\")\n",
    "# decoded_test_value = decode_photoperiod(encoded_test_value)\n",
    "# print(f\"Decoded test value: {decoded_test_value}\")\n",
    "\n",
    "data.head(3)"
   ]
  },
  {
   "cell_type": "markdown",
   "metadata": {},
   "source": [
    "Podmieniamy wartosc photoperiod na wartosc numeryczna"
   ]
  },
  {
   "cell_type": "code",
   "execution_count": 5,
   "metadata": {},
   "outputs": [
    {
     "data": {
      "text/html": [
       "<div>\n",
       "<style scoped>\n",
       "    .dataframe tbody tr th:only-of-type {\n",
       "        vertical-align: middle;\n",
       "    }\n",
       "\n",
       "    .dataframe tbody tr th {\n",
       "        vertical-align: top;\n",
       "    }\n",
       "\n",
       "    .dataframe thead th {\n",
       "        text-align: right;\n",
       "    }\n",
       "</style>\n",
       "<table border=\"1\" class=\"dataframe\">\n",
       "  <thead>\n",
       "    <tr style=\"text-align: right;\">\n",
       "      <th></th>\n",
       "      <th>LightIntensity</th>\n",
       "      <th>Photoperiod</th>\n",
       "      <th>Temperature</th>\n",
       "      <th>Initial pH</th>\n",
       "      <th>BiomassProductivity</th>\n",
       "    </tr>\n",
       "  </thead>\n",
       "  <tbody>\n",
       "    <tr>\n",
       "      <th>0</th>\n",
       "      <td>116</td>\n",
       "      <td>1440</td>\n",
       "      <td>28</td>\n",
       "      <td>8.0</td>\n",
       "      <td>185.6</td>\n",
       "    </tr>\n",
       "    <tr>\n",
       "      <th>1</th>\n",
       "      <td>165</td>\n",
       "      <td>1145</td>\n",
       "      <td>22</td>\n",
       "      <td>6.5</td>\n",
       "      <td>140.6</td>\n",
       "    </tr>\n",
       "    <tr>\n",
       "      <th>2</th>\n",
       "      <td>66</td>\n",
       "      <td>1145</td>\n",
       "      <td>34</td>\n",
       "      <td>6.5</td>\n",
       "      <td>135.0</td>\n",
       "    </tr>\n",
       "  </tbody>\n",
       "</table>\n",
       "</div>"
      ],
      "text/plain": [
       "   LightIntensity  Photoperiod  Temperature  Initial pH  BiomassProductivity\n",
       "0             116         1440           28         8.0                185.6\n",
       "1             165         1145           22         6.5                140.6\n",
       "2              66         1145           34         6.5                135.0"
      ]
     },
     "execution_count": 5,
     "metadata": {},
     "output_type": "execute_result"
    }
   ],
   "source": [
    "# update the Photoperiod column with the encoded values\n",
    "data['Photoperiod'] = data['Photoperiod'].apply(encode_photoperiod)\n",
    "\n",
    "data.head(3)"
   ]
  },
  {
   "cell_type": "markdown",
   "metadata": {},
   "source": [
    "Normalizowania danych"
   ]
  },
  {
   "cell_type": "code",
   "execution_count": 15,
   "metadata": {},
   "outputs": [
    {
     "data": {
      "text/html": [
       "<div>\n",
       "<style scoped>\n",
       "    .dataframe tbody tr th:only-of-type {\n",
       "        vertical-align: middle;\n",
       "    }\n",
       "\n",
       "    .dataframe tbody tr th {\n",
       "        vertical-align: top;\n",
       "    }\n",
       "\n",
       "    .dataframe thead th {\n",
       "        text-align: right;\n",
       "    }\n",
       "</style>\n",
       "<table border=\"1\" class=\"dataframe\">\n",
       "  <thead>\n",
       "    <tr style=\"text-align: right;\">\n",
       "      <th></th>\n",
       "      <th>LightIntensity</th>\n",
       "      <th>Photoperiod</th>\n",
       "      <th>Temperature</th>\n",
       "      <th>Initial pH</th>\n",
       "      <th>BiomassProductivity</th>\n",
       "    </tr>\n",
       "  </thead>\n",
       "  <tbody>\n",
       "    <tr>\n",
       "      <th>0</th>\n",
       "      <td>0.500000</td>\n",
       "      <td>1.00</td>\n",
       "      <td>0.50</td>\n",
       "      <td>0.50</td>\n",
       "      <td>0.692343</td>\n",
       "    </tr>\n",
       "    <tr>\n",
       "      <th>1</th>\n",
       "      <td>0.747475</td>\n",
       "      <td>0.75</td>\n",
       "      <td>0.25</td>\n",
       "      <td>0.25</td>\n",
       "      <td>0.487238</td>\n",
       "    </tr>\n",
       "    <tr>\n",
       "      <th>2</th>\n",
       "      <td>0.247475</td>\n",
       "      <td>0.75</td>\n",
       "      <td>0.75</td>\n",
       "      <td>0.25</td>\n",
       "      <td>0.461714</td>\n",
       "    </tr>\n",
       "  </tbody>\n",
       "</table>\n",
       "</div>"
      ],
      "text/plain": [
       "   LightIntensity  Photoperiod  Temperature  Initial pH  BiomassProductivity\n",
       "0        0.500000         1.00         0.50        0.50             0.692343\n",
       "1        0.747475         0.75         0.25        0.25             0.487238\n",
       "2        0.247475         0.75         0.75        0.25             0.461714"
      ]
     },
     "execution_count": 15,
     "metadata": {},
     "output_type": "execute_result"
    }
   ],
   "source": [
    "# implement method for normalizing the data only positive values\n",
    "def normalize(x):\n",
    "    x_max = x.max()\n",
    "    x_min = x.min()\n",
    "    return (x - x_min) / (x_max - x_min)\n",
    "\n",
    "# normalize the data for each column\n",
    "norm_data = data.copy()\n",
    "for column in data.columns:\n",
    "    norm_data[column] = normalize(data[column])\n",
    "\n",
    "\n",
    "norm_data.head(3)"
   ]
  },
  {
   "cell_type": "markdown",
   "metadata": {},
   "source": [
    "Metoda przeliczajaca z wartosci znormalizowanej do zwyklej"
   ]
  },
  {
   "cell_type": "code",
   "execution_count": 7,
   "metadata": {},
   "outputs": [
    {
     "name": "stdout",
     "output_type": "stream",
     "text": [
      "Test value: 185.6\n",
      "Normalized test value: 0.5426128219300366\n",
      "Denormalized test value: 185.6\n"
     ]
    }
   ],
   "source": [
    "# method covert from normalized data to original data\n",
    "def denormalize(data, norm_data):\n",
    "    return (norm_data * data.std()) + data.mean()\n",
    "\n",
    "# test the denormalize method\n",
    "test_value = data['BiomassProductivity'][0]\n",
    "print(f\"Test value: {test_value}\")\n",
    "norm_test_value = norm_data['BiomassProductivity'][0]\n",
    "print(f\"Normalized test value: {norm_test_value}\")\n",
    "denorm_test_value = denormalize(data['BiomassProductivity'], norm_test_value)\n",
    "print(f\"Denormalized test value: {denorm_test_value}\")\n",
    "\n"
   ]
  },
  {
   "cell_type": "code",
   "execution_count": null,
   "metadata": {},
   "outputs": [],
   "source": [
    "Wlasnie widze ze moglem uzyc LabelEncoder zamiast pisac wlasne metody do kodowania i dekodowania danych.\n"
   ]
  },
  {
   "cell_type": "code",
   "execution_count": 26,
   "metadata": {},
   "outputs": [
    {
     "data": {
      "text/html": [
       "<div>\n",
       "<style scoped>\n",
       "    .dataframe tbody tr th:only-of-type {\n",
       "        vertical-align: middle;\n",
       "    }\n",
       "\n",
       "    .dataframe tbody tr th {\n",
       "        vertical-align: top;\n",
       "    }\n",
       "\n",
       "    .dataframe thead th {\n",
       "        text-align: right;\n",
       "    }\n",
       "</style>\n",
       "<table border=\"1\" class=\"dataframe\">\n",
       "  <thead>\n",
       "    <tr style=\"text-align: right;\">\n",
       "      <th></th>\n",
       "      <th>Light Intensity</th>\n",
       "      <th>Photoperiod</th>\n",
       "      <th>Temperature</th>\n",
       "      <th>Initial pH</th>\n",
       "      <th>Biomass productivity</th>\n",
       "    </tr>\n",
       "  </thead>\n",
       "  <tbody>\n",
       "    <tr>\n",
       "      <th>0</th>\n",
       "      <td>LabelEncoder()</td>\n",
       "      <td>LabelEncoder()</td>\n",
       "      <td>LabelEncoder()</td>\n",
       "      <td>LabelEncoder()</td>\n",
       "      <td>LabelEncoder()</td>\n",
       "    </tr>\n",
       "    <tr>\n",
       "      <th>1</th>\n",
       "      <td>LabelEncoder()</td>\n",
       "      <td>LabelEncoder()</td>\n",
       "      <td>LabelEncoder()</td>\n",
       "      <td>LabelEncoder()</td>\n",
       "      <td>LabelEncoder()</td>\n",
       "    </tr>\n",
       "    <tr>\n",
       "      <th>2</th>\n",
       "      <td>LabelEncoder()</td>\n",
       "      <td>LabelEncoder()</td>\n",
       "      <td>LabelEncoder()</td>\n",
       "      <td>LabelEncoder()</td>\n",
       "      <td>LabelEncoder()</td>\n",
       "    </tr>\n",
       "  </tbody>\n",
       "</table>\n",
       "</div>"
      ],
      "text/plain": [
       "  Light Intensity     Photoperiod     Temperature      Initial pH  \\\n",
       "0  LabelEncoder()  LabelEncoder()  LabelEncoder()  LabelEncoder()   \n",
       "1  LabelEncoder()  LabelEncoder()  LabelEncoder()  LabelEncoder()   \n",
       "2  LabelEncoder()  LabelEncoder()  LabelEncoder()  LabelEncoder()   \n",
       "\n",
       "  Biomass productivity  \n",
       "0       LabelEncoder()  \n",
       "1       LabelEncoder()  \n",
       "2       LabelEncoder()  "
      ]
     },
     "execution_count": 26,
     "metadata": {},
     "output_type": "execute_result"
    }
   ],
   "source": [
    "# use label encoder to encode the data\n",
    "encoder = LabelEncoder()\n",
    "encoded_data = data.copy()\n",
    "for column in data.columns:\n",
    "    encoded_data[column] = encoder.fit(data[column])\n",
    "\n",
    "encoded_data.head(3)\n",
    "\n"
   ]
  },
  {
   "cell_type": "code",
   "execution_count": null,
   "metadata": {},
   "outputs": [],
   "source": [
    "Konwertuejmy dane do datasetu TensorFlow"
   ]
  },
  {
   "cell_type": "code",
   "execution_count": 37,
   "metadata": {},
   "outputs": [],
   "source": [
    "train, test = sklearn.model_selection.train_test_split(norm_data, test_size=0.2, shuffle=True, random_state=42)\n",
    "\n",
    "train_X = train.drop('BiomassProductivity', axis=1)\n",
    "train_y = train['BiomassProductivity']\n",
    "\n",
    "test_X = test.drop('BiomassProductivity', axis=1)\n",
    "test_y = test['BiomassProductivity']\n"
   ]
  },
  {
   "cell_type": "markdown",
   "metadata": {},
   "source": [
    "Tworzymy pierwszy model z uzyciem 2 warstw ukrytych. Warstawa wejściowa i wyściowa są zawsze takie same, roznice w modelach beda tylko w ilosci ukrytych, dlatego na start sobie zdefiniuje input i output layer"
   ]
  },
  {
   "cell_type": "code",
   "execution_count": 35,
   "metadata": {},
   "outputs": [],
   "source": [
    "input_layer = tf.keras.layers.Dense(4) # 4 poniewaz mamy 4 cechy\n",
    "output_layer = tf.keras.layers.Dense(1, activation='sigmoid') # 1 poniewaz mamy 1 wartosc do przewidzenia\n",
    "\n"
   ]
  },
  {
   "cell_type": "code",
   "execution_count": 36,
   "metadata": {},
   "outputs": [
    {
     "name": "stdout",
     "output_type": "stream",
     "text": [
      "Epoch 1/10\n",
      "\u001b[1m1/1\u001b[0m \u001b[32m━━━━━━━━━━━━━━━━━━━━\u001b[0m\u001b[37m\u001b[0m \u001b[1m1s\u001b[0m 620ms/step - accuracy: 0.2500 - loss: 0.2658\n",
      "Epoch 2/10\n",
      "\u001b[1m1/1\u001b[0m \u001b[32m━━━━━━━━━━━━━━━━━━━━\u001b[0m\u001b[37m\u001b[0m \u001b[1m0s\u001b[0m 26ms/step - accuracy: 0.2500 - loss: 0.2658\n",
      "Epoch 3/10\n",
      "\u001b[1m1/1\u001b[0m \u001b[32m━━━━━━━━━━━━━━━━━━━━\u001b[0m\u001b[37m\u001b[0m \u001b[1m0s\u001b[0m 26ms/step - accuracy: 0.2500 - loss: 0.2658\n",
      "Epoch 4/10\n",
      "\u001b[1m1/1\u001b[0m \u001b[32m━━━━━━━━━━━━━━━━━━━━\u001b[0m\u001b[37m\u001b[0m \u001b[1m0s\u001b[0m 31ms/step - accuracy: 0.2500 - loss: 0.2657\n",
      "Epoch 5/10\n",
      "\u001b[1m1/1\u001b[0m \u001b[32m━━━━━━━━━━━━━━━━━━━━\u001b[0m\u001b[37m\u001b[0m \u001b[1m0s\u001b[0m 29ms/step - accuracy: 0.2500 - loss: 0.2657\n",
      "Epoch 6/10\n",
      "\u001b[1m1/1\u001b[0m \u001b[32m━━━━━━━━━━━━━━━━━━━━\u001b[0m\u001b[37m\u001b[0m \u001b[1m0s\u001b[0m 28ms/step - accuracy: 0.2500 - loss: 0.2657\n",
      "Epoch 7/10\n",
      "\u001b[1m1/1\u001b[0m \u001b[32m━━━━━━━━━━━━━━━━━━━━\u001b[0m\u001b[37m\u001b[0m \u001b[1m0s\u001b[0m 29ms/step - accuracy: 0.2500 - loss: 0.2657\n",
      "Epoch 8/10\n",
      "\u001b[1m1/1\u001b[0m \u001b[32m━━━━━━━━━━━━━━━━━━━━\u001b[0m\u001b[37m\u001b[0m \u001b[1m0s\u001b[0m 30ms/step - accuracy: 0.2500 - loss: 0.2656\n",
      "Epoch 9/10\n",
      "\u001b[1m1/1\u001b[0m \u001b[32m━━━━━━━━━━━━━━━━━━━━\u001b[0m\u001b[37m\u001b[0m \u001b[1m0s\u001b[0m 29ms/step - accuracy: 0.2500 - loss: 0.2656\n",
      "Epoch 10/10\n",
      "\u001b[1m1/1\u001b[0m \u001b[32m━━━━━━━━━━━━━━━━━━━━\u001b[0m\u001b[37m\u001b[0m \u001b[1m0s\u001b[0m 31ms/step - accuracy: 0.2500 - loss: 0.2656\n"
     ]
    }
   ],
   "source": [
    "model_1 = tf.keras.Sequential([\n",
    "    input_layer,\n",
    "    tf.keras.layers.Dense(12),\n",
    "    output_layer\n",
    "])\n",
    "\n",
    "model_1.compile(optimizer=tf.keras.optimizers.SGD(), loss=tf.keras.losses.mae, metrics=['accuracy'])\n",
    "\n",
    "history_1 = model_1.fit(train_X, train_y, epochs=10)\n"
   ]
  },
  {
   "cell_type": "code",
   "execution_count": 70,
   "metadata": {},
   "outputs": [],
   "source": [
    "predictions = model_1.predict(test_X, verbose=0)\n",
    "predictions = predictions.flatten()\n",
    "predictions_values = denormalize(data['BiomassProductivity'], predictions)\n",
    "\n",
    "real_values = denormalize(data['BiomassProductivity'], test_y).values\n"
   ]
  },
  {
   "cell_type": "code",
   "execution_count": 74,
   "metadata": {},
   "outputs": [
    {
     "name": "stdout",
     "output_type": "stream",
     "text": [
      "Predicted value: 185.46734619140625, Real value: 158.51484675917126, Difference: 17.0%\n",
      "Predicted value: 184.60325622558594, Real value: 219.72480657264398, Difference: 15.98%\n",
      "Predicted value: 184.25503540039062, Real value: 150.86360178248717, Difference: 22.13%\n",
      "Predicted value: 182.5838623046875, Real value: 154.70622703744408, Difference: 18.02%\n",
      "Predicted value: 184.6076202392578, Real value: 187.21551680504405, Difference: 1.39%\n",
      "Predicted value: 186.6142120361328, Real value: 162.35747201412818, Difference: 14.94%\n"
     ]
    }
   ],
   "source": [
    "def value_diff(prediction, real_value):\n",
    "    # return the difference between the predicted and real values in percentage\n",
    "    return abs(((prediction - real_value) / real_value * 100).round(2))\n",
    "\n",
    "\n",
    "for i in range(len(predictions_values)):\n",
    "    print(f\"Predicted value: {predictions_values[i]}, Real value: {real_values[i]}, Difference: {value_diff(predictions_values[i], real_values[i])}%\")"
   ]
  },
  {
   "cell_type": "code",
   "execution_count": 55,
   "metadata": {},
   "outputs": [
    {
     "data": {
      "image/png": "[encoded data removed]",
      "text/plain": [
       "<Figure size 1000x600 with 1 Axes>"
      ]
     },
     "metadata": {},
     "output_type": "display_data"
    }
   ],
   "source": [
    "\n",
    "\n",
    "# Compare the real values with the predicted values on chart\n",
    "plt.figure(figsize=(10, 6))\n",
    "plt.scatter(real_values, predictions_values, c='r')\n",
    "# plt.plot([real_values.min(), real_values.max()], [real_values.min(), real_values.max()], 'k--', lw=4)\n",
    "plt.xlabel('Real values')\n",
    "plt.ylabel('Predicted values')\n",
    "plt.title('Real values vs Predicted values')\n",
    "plt.show()\n"
   ]
  },
  {
   "cell_type": "code",
   "execution_count": null,
   "metadata": {},
   "outputs": [],
   "source": []
  }
 ],
 "metadata": {
  "kernelspec": {
   "display_name": ".venv",
   "language": "python",
   "name": "python3"
  },
  "language_info": {
   "codemirror_mode": {
    "name": "ipython",
    "version": 3
   },
   "file_extension": ".py",
   "mimetype": "text/x-python",
   "name": "python",
   "nbconvert_exporter": "python",
   "pygments_lexer": "ipython3",
   "version": "3.10.14"
  }
 },
 "nbformat": 4,
 "nbformat_minor": 2
}
